{
  "nbformat": 4,
  "nbformat_minor": 0,
  "metadata": {
    "kernelspec": {
      "display_name": "Python 3 (ipykernel)",
      "language": "python",
      "name": "python3"
    },
    "language_info": {
      "codemirror_mode": {
        "name": "ipython",
        "version": 3
      },
      "file_extension": ".py",
      "mimetype": "text/x-python",
      "name": "python",
      "nbconvert_exporter": "python",
      "pygments_lexer": "ipython3",
      "version": "3.9.1"
    },
    "toc": {
      "base_numbering": 1,
      "nav_menu": {},
      "number_sections": true,
      "sideBar": true,
      "skip_h1_title": false,
      "title_cell": "Table of Contents",
      "title_sidebar": "Contents",
      "toc_cell": false,
      "toc_position": {},
      "toc_section_display": true,
      "toc_window_display": false
    },
    "varInspector": {
      "cols": {
        "lenName": 16,
        "lenType": 16,
        "lenVar": 40
      },
      "kernels_config": {
        "python": {
          "delete_cmd_postfix": "",
          "delete_cmd_prefix": "del ",
          "library": "var_list.py",
          "varRefreshCmd": "print(var_dic_list())"
        },
        "r": {
          "delete_cmd_postfix": ") ",
          "delete_cmd_prefix": "rm(",
          "library": "var_list.r",
          "varRefreshCmd": "cat(var_dic_list()) "
        }
      },
      "types_to_exclude": [
        "module",
        "function",
        "builtin_function_or_method",
        "instance",
        "_Feature"
      ],
      "window_display": false
    },
    "colab": {
      "name": "Vijaya_PW2-A1.ipynb",
      "provenance": [],
      "collapsed_sections": []
    }
  },
  "cells": [
    {
      "cell_type": "markdown",
      "metadata": {
        "deletable": false,
        "editable": false,
        "nbgrader": {
          "cell_type": "markdown",
          "checksum": "5d28e81fc60c746ecd05d524269b9275",
          "grade": false,
          "grade_id": "cell-0a1cd97d29171e27",
          "locked": true,
          "schema_version": 3,
          "solution": false,
          "task": false
        },
        "id": "uDQ29t60aolR"
      },
      "source": [
        "# Rules:\n",
        "    1. Follow the given instructions strictly as the assignment will be automatically rejected if not done so.\n",
        "    2. After you are done answering the questions, save the notebook in .ipynb format and rename it as so;\n",
        "        \n",
        "        <<Your name as visible on 'My Courses' page>>_PW2-A1.ipynb\n",
        "        \n",
        "    3. After renaming the file as above submit onto the platform."
      ]
    },
    {
      "cell_type": "markdown",
      "metadata": {
        "deletable": false,
        "editable": false,
        "nbgrader": {
          "cell_type": "markdown",
          "checksum": "c3e759877055ca3f22eccc6bb26a2db9",
          "grade": false,
          "grade_id": "cell-39806162dd625703",
          "locked": true,
          "schema_version": 3,
          "solution": false,
          "task": false
        },
        "id": "ZvsmqDQSaolW"
      },
      "source": [
        "# Python W2 - Assignment 01"
      ]
    },
    {
      "cell_type": "markdown",
      "metadata": {
        "deletable": false,
        "editable": false,
        "nbgrader": {
          "cell_type": "markdown",
          "checksum": "826356eed441591b2d82f7e2fbed11df",
          "grade": false,
          "grade_id": "Q1",
          "locked": true,
          "schema_version": 3,
          "solution": false,
          "task": false
        },
        "id": "0pnRMfw1aolW"
      },
      "source": [
        "\n",
        "## Data Collection Types\n",
        "\n",
        "List down the definitions and differences between the different data collection types in python\n",
        "\n",
        "Instructions:\n",
        "- Enter your solution in the cell block below only. Double click to edit.\n",
        "- Do not edit anything else apart from 'YOUR ANSWER HERE' for your solution"
      ]
    },
    {
      "cell_type": "markdown",
      "metadata": {
        "deletable": false,
        "nbgrader": {
          "cell_type": "markdown",
          "checksum": "b1bb0f26c3115f4d7d7f924544ba6de8",
          "grade": true,
          "grade_id": "A1",
          "locked": false,
          "points": 2,
          "schema_version": 3,
          "solution": true,
          "task": false
        },
        "id": "yuz8RADPaolX"
      },
      "source": [
        "YOUR ANSWER HERE\n",
        "\n",
        "Data Collection Types are:\n",
        "1. List\n",
        "2. Tuple\n",
        "3. Dictionary\n",
        "4. Set\n",
        "\n",
        "# ***Definations & Differences***\n",
        "\n",
        "**List-** \n",
        "- It is collection of values with ordered data.\n",
        "- They are homogeneous or heterogeneous in nature.\n",
        "- Lists are dynamic in size.\n",
        "- List created with square brackets[]\n",
        "- It allows various duplicate values.\n",
        "- List are mutable in nature.\n",
        "\n",
        "**Tuple-** \n",
        "- It is collection of various objects with ordered.\n",
        "- They are homogeneous or heterogeneous in nature.\n",
        "- Tuples created with round brackets ()\n",
        "- It allows various duplicate values.\n",
        "- They are immutable in nature.\n",
        "\n",
        "**Dictionary-** \n",
        "- It is collection of ordered of various data types.\n",
        "- It used to store data in the form of key value pair.\n",
        "- Dictionary created with {} brackets.\n",
        "- We can create dictionary within dictionary\n",
        "- The keys are not at all duplicated.\n",
        "- It is mutable.\n",
        "\n",
        "**Set-** \n",
        "- It is unordered of various data types.\n",
        "- These are mutable, iterable, and do not consist of any duplicate elements.\n",
        "- Set are represented using {}\n",
        "- It not allows various duplicate values.\n",
        "- It is mutable"
      ]
    },
    {
      "cell_type": "code",
      "metadata": {
        "deletable": false,
        "editable": false,
        "nbgrader": {
          "cell_type": "code",
          "checksum": "eac05f55af24ef036be718ea50a5abc5",
          "grade": false,
          "grade_id": "cell-bdbb11386adf6c13",
          "locked": true,
          "schema_version": 3,
          "solution": false,
          "task": false
        },
        "id": "0vl8NQT7aolY"
      },
      "source": [
        ""
      ],
      "execution_count": null,
      "outputs": []
    },
    {
      "cell_type": "markdown",
      "metadata": {
        "deletable": false,
        "editable": false,
        "nbgrader": {
          "cell_type": "markdown",
          "checksum": "6ceecac5b4747119f66afcb8e2e4e890",
          "grade": false,
          "grade_id": "cell-a13189a026c3771d",
          "locked": true,
          "schema_version": 3,
          "solution": false,
          "task": false
        },
        "id": "BGnyozkAaolY"
      },
      "source": [
        "## Match the data types\n",
        "\n",
        "A) 1.0\\\n",
        "B) name\\\n",
        "C) 1\\\n",
        "D) true\n",
        "\n",
        "I. integer\\\n",
        "II. boolean\\\n",
        "III. string\\\n",
        "IV. float\\\n",
        "V. None"
      ]
    },
    {
      "cell_type": "markdown",
      "metadata": {
        "deletable": false,
        "nbgrader": {
          "cell_type": "markdown",
          "checksum": "38e5087b0ebe78439e867ce1a77c9bb6",
          "grade": true,
          "grade_id": "cell-5b0ec5b5f53b7705",
          "locked": false,
          "points": 2,
          "schema_version": 3,
          "solution": true,
          "task": false
        },
        "id": "dCSGQ2uiaolZ"
      },
      "source": [
        "YOUR ANSWER HERE\n"
      ]
    },
    {
      "cell_type": "markdown",
      "source": [
        "- A)IV  float \n",
        "- B)III string\n",
        "- C)I   integer\n",
        "- D)V   None"
      ],
      "metadata": {
        "id": "z0YIoiGJs5ZK"
      }
    },
    {
      "cell_type": "markdown",
      "metadata": {
        "deletable": false,
        "editable": false,
        "nbgrader": {
          "cell_type": "markdown",
          "checksum": "c8e811b27d911880144df511cdbff7e8",
          "grade": false,
          "grade_id": "Q2",
          "locked": true,
          "schema_version": 3,
          "solution": false,
          "task": false
        },
        "id": "NDF-_5eraola"
      },
      "source": [
        "## Scenario Psuedo Code\n",
        "A general scenario you encounter while cleaning datasets is of strings containing integers and special characters in them. \n",
        "\n",
        "Ex: 'AP09XX8799' is a vehicle number which contains both numbers and the letters. 'AP' is the state code of vehicle registration and other numbers/letters signify other information.\n",
        "\n",
        "If a single line of such statement is given to you, explain the algorithm with psuedo code that you would use to find and differentiate all such letters and digits/special characters ?\n",
        "\n",
        "Instructions:\n",
        "- Enter your solution in the cell block below only. Double click to edit.\n",
        "- Do not edit anything else apart from 'YOUR ANSWER HERE' for your solution"
      ]
    },
    {
      "cell_type": "markdown",
      "metadata": {
        "deletable": false,
        "nbgrader": {
          "cell_type": "markdown",
          "checksum": "932f2babf6b7024bb49654516db0d0cb",
          "grade": true,
          "grade_id": "A2",
          "locked": false,
          "points": 2,
          "schema_version": 3,
          "solution": true,
          "task": false
        },
        "id": "yG3i7z-Iaolb"
      },
      "source": [
        "YOUR ANSWER HERE\n",
        "1. Start\n",
        "2. Read the string\n",
        "3. Create three differnt empty list for alphabet, digit and specical characters\n",
        "   - alpha=[ ]\n",
        "   - digit=[ ]\n",
        "   - spec_char=[ ]\n",
        "4. Use for loop to itreate each string index and check with two function\n",
        "  - isdigit() [Is digit]\n",
        "  - isalpha() [Is Alphabate]\n",
        "  - special symbol [ @, $, % ,^, &,*,!] \n",
        "  with if - elif - else condition\n",
        "5. Display the print"
      ]
    },
    {
      "cell_type": "code",
      "metadata": {
        "deletable": false,
        "editable": false,
        "nbgrader": {
          "cell_type": "code",
          "checksum": "4a32da98702e61507f14b6eeb50c7c21",
          "grade": false,
          "grade_id": "cell-c583dcd635f03dab",
          "locked": true,
          "schema_version": 3,
          "solution": false,
          "task": false
        },
        "id": "UcMqDTucaolb",
        "colab": {
          "base_uri": "https://localhost:8080/"
        },
        "outputId": "0e98cd31-2387-4c85-9378-cf30e0c86384"
      },
      "source": [
        "name='AP09XX8799' \n",
        "alpha=[]\n",
        "digit=[]\n",
        "spec_char=[]\n",
        "for i in name:\n",
        "  if i.isdigit():\n",
        "    digit.append(i)\n",
        "  elif i.isalpha():\n",
        "    alpha.append(i)\n",
        "  else:\n",
        "    spec_char.append(i)\n",
        "print(\"Letters \",alpha)\n",
        "print(\"Digits  \",digit)\n",
        "print(\"Special characters\", spec_char)"
      ],
      "execution_count": null,
      "outputs": [
        {
          "output_type": "stream",
          "name": "stdout",
          "text": [
            "Letters  ['A', 'P', 'X', 'X']\n",
            "Digits   ['0', '9', '8', '7', '9', '9']\n",
            "Special characters []\n"
          ]
        }
      ]
    },
    {
      "cell_type": "markdown",
      "metadata": {
        "deletable": false,
        "editable": false,
        "nbgrader": {
          "cell_type": "markdown",
          "checksum": "5ef100d3dc61d87b5fd6626cb92ade87",
          "grade": false,
          "grade_id": "Q3",
          "locked": true,
          "schema_version": 3,
          "solution": false,
          "task": false
        },
        "id": "SaLRQeHTaolc"
      },
      "source": [
        "## Greatest Common Divisor\n",
        "\n",
        "Write a program to find the greatest common divisor for two numbers\n",
        "\n",
        "Instructions:\n",
        "- Enter your solution in the cell block below only.\n",
        "- Do not edit anything else apart from 'YOUR ANSWER HERE' for your solution"
      ]
    },
    {
      "cell_type": "code",
      "metadata": {
        "deletable": false,
        "nbgrader": {
          "cell_type": "code",
          "checksum": "0c1086e55e46f4bcc4ce901431420bf8",
          "grade": true,
          "grade_id": "A3",
          "locked": false,
          "points": 2,
          "schema_version": 3,
          "solution": true,
          "task": false
        },
        "id": "p8i3TXihaolc"
      },
      "source": [
        "# YOUR ANSWER HERE"
      ],
      "execution_count": null,
      "outputs": []
    },
    {
      "cell_type": "code",
      "metadata": {
        "deletable": false,
        "editable": false,
        "nbgrader": {
          "cell_type": "code",
          "checksum": "f88b0eebd4d316703cf56b4c48a72efa",
          "grade": false,
          "grade_id": "cell-f0e0b9c35862e705",
          "locked": true,
          "schema_version": 3,
          "solution": false,
          "task": false
        },
        "id": "zjHLjMtmaold",
        "colab": {
          "base_uri": "https://localhost:8080/"
        },
        "outputId": "115f9ed3-87c8-4345-90af-e1cb3d2e7f50"
      },
      "source": [
        "no1=int(input(\"First number: \"))\n",
        "no2=int(input(\"Second number: \"))\n",
        "gcd=1\n",
        "minimum_no=min(no1,no2)\n",
        "print(minimum_no)\n",
        "if (no1%minimum_no==0 and no2%minimum_no==0):\n",
        "  gcd=minimum_no\n",
        "else:\n",
        "  for i in range(minimum_no//2,1,-1):\n",
        "    if (no1%i==0 and no2%i==0):\n",
        "      gcd=i\n",
        "      break\n",
        "print(f\"Greatest Common Divisor of {no1} & {no2} is {gcd}\")\n"
      ],
      "execution_count": null,
      "outputs": [
        {
          "output_type": "stream",
          "name": "stdout",
          "text": [
            "First number: 34\n",
            "Second number: 56\n",
            "34\n",
            "Greatest Common Divisor of 34 & 56 is 2\n"
          ]
        }
      ]
    },
    {
      "cell_type": "markdown",
      "metadata": {
        "deletable": false,
        "editable": false,
        "nbgrader": {
          "cell_type": "markdown",
          "checksum": "0b48b77acc592a14a5eab148294322c2",
          "grade": false,
          "grade_id": "Q4",
          "locked": true,
          "schema_version": 3,
          "solution": false,
          "task": false
        },
        "id": "uFGacFEJaole"
      },
      "source": [
        "## List Operations\n",
        "\n",
        "Given two lists, write a program to perform the following operations on the lists;\n",
        "- Union\n",
        "- Intersection\n",
        "- Left Difference\n",
        "- Right Difference\n",
        "\n",
        "Instructions:\n",
        "- Enter your solution in the cell block below only.\n",
        "- Do not edit anything else apart from 'YOUR ANSWER HERE' for your solution"
      ]
    },
    {
      "cell_type": "code",
      "metadata": {
        "deletable": false,
        "nbgrader": {
          "cell_type": "code",
          "checksum": "fa02304f91d4af359eb00de7102f5cfe",
          "grade": true,
          "grade_id": "A4",
          "locked": false,
          "points": 2,
          "schema_version": 3,
          "solution": true,
          "task": false
        },
        "id": "69QYheKsaole",
        "colab": {
          "base_uri": "https://localhost:8080/"
        },
        "outputId": "5806c80d-3229-4fe3-c777-5e2934e80e2d"
      },
      "source": [
        "# YOUR ANSWER HERE\n",
        "list1=[1,2,3,4,5,6,7]\n",
        "list2=[3,4,5,9,10,11]\n",
        "\n",
        "# Union\n",
        "def Union(l1,l2):\n",
        "  l=l1 + l2\n",
        "  return l\n",
        "print(\"Union is \",Union(list1,list2))\n",
        "\n",
        "#Intersection\n",
        "# value for value in lst1 if value in lst2\n",
        "def Intersection(l1,l2):\n",
        "  l= []\n",
        "  for i in l1:\n",
        "    if i in l2:\n",
        "      l.append(i) \n",
        "  return l\n",
        "print(\"Intersection is \",Intersection(list1,list2))\n",
        "\n",
        "#Left Difference\n",
        "def LeftDiffenence(l1,l2):\n",
        "  l=[]\n",
        "  for i in l1:\n",
        "    if i not in l2:\n",
        "      l.append(i)\n",
        "  return l\n",
        "print(\"Left Diffenence is \",LeftDiffenence(list1,list2))\n",
        "#Right Difference\n",
        "def RightDiffenence(l1,l2):\n",
        "  l=[]\n",
        "  for i in l1:\n",
        "    if i not in l2:\n",
        "      l.append(i)\n",
        "  return l\n",
        "print(\"Right Diffenence is \",RightDiffenence(list2,list1))\n"
      ],
      "execution_count": null,
      "outputs": [
        {
          "output_type": "stream",
          "name": "stdout",
          "text": [
            "Union is  [1, 2, 3, 4, 5, 6, 7, 3, 4, 5, 9, 10, 11]\n",
            "Intersection is  [3, 4, 5]\n",
            "Left Diffenence is  [1, 2, 6, 7]\n",
            "Right Diffenence is  [9, 10, 11]\n"
          ]
        }
      ]
    },
    {
      "cell_type": "code",
      "metadata": {
        "deletable": false,
        "editable": false,
        "nbgrader": {
          "cell_type": "code",
          "checksum": "f1b559db59d3786992d7062d60fced26",
          "grade": false,
          "grade_id": "cell-6975b5c3cd3b6be9",
          "locked": true,
          "schema_version": 3,
          "solution": false,
          "task": false
        },
        "id": "WZ4o_yUwaole",
        "colab": {
          "base_uri": "https://localhost:8080/"
        },
        "outputId": "706d0cf6-d4ed-4acd-f1fc-90f08dffd332"
      },
      "source": [
        "list1=[1,2,3,4,5,6,7]\n",
        "list2=[3,4,5,9,10,11]\n",
        "print(\"List1   is       -\",list1)\n",
        "print(\"List2  is        -\",list2)\n",
        "print(\"Union            -\",list(set(list1).union(set(list2))))\n",
        "print(\"Intersection     -\",list(set(list1).intersection(set(list2))))\n",
        "print(\"Left Diffenence  -\",list(set(list1)-(set(list2))))\n",
        "print(\"Right Diffenence -\",list(set(list2)-(set(list1))))"
      ],
      "execution_count": null,
      "outputs": [
        {
          "output_type": "stream",
          "name": "stdout",
          "text": [
            "List1   is       - [1, 2, 3, 4, 5, 6, 7]\n",
            "List2  is        - [3, 4, 5, 9, 10, 11]\n",
            "Union            - [1, 2, 3, 4, 5, 6, 7, 9, 10, 11]\n",
            "Intersection     - [3, 4, 5]\n",
            "Left Diffenence  - [1, 2, 6, 7]\n",
            "Right Diffenence - [9, 10, 11]\n"
          ]
        }
      ]
    },
    {
      "cell_type": "code",
      "source": [
        ""
      ],
      "metadata": {
        "id": "BdoqAb9CujQK"
      },
      "execution_count": null,
      "outputs": []
    }
  ]
}